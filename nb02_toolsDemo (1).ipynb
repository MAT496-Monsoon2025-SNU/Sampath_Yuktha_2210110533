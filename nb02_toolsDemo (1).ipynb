{
  "cells": [
    {
      "cell_type": "code",
      "execution_count": 2,
      "id": "7963b495",
      "metadata": {
        "colab": {
          "base_uri": "https://localhost:8080/"
        },
        "id": "7963b495",
        "outputId": "5933e04f-bc4c-46b9-d50a-b53241e99c15"
      },
      "outputs": [
        {
          "output_type": "execute_result",
          "data": {
            "text/plain": [
              "False"
            ]
          },
          "metadata": {},
          "execution_count": 2
        }
      ],
      "source": [
        "import os\n",
        "from dotenv import load_dotenv\n",
        "load_dotenv(override=True)\n"
      ]
    },
    {
      "cell_type": "code",
      "source": [
        "SERPER_API_KEY = 'f3798db43b3554ab6d8b714c5e0b1b5d5baf5a0a'\n",
        "TAVILY_API_KEY = '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'"
      ],
      "metadata": {
        "id": "ZLKzuqLPR3rQ"
      },
      "id": "ZLKzuqLPR3rQ",
      "execution_count": 3,
      "outputs": []
    },
    {
      "cell_type": "markdown",
      "id": "f29aceec",
      "metadata": {
        "id": "f29aceec"
      },
      "source": [
        "# Web Search"
      ]
    },
    {
      "cell_type": "markdown",
      "id": "596550b2",
      "metadata": {
        "id": "596550b2"
      },
      "source": [
        "## Google Serper"
      ]
    },
    {
      "cell_type": "code",
      "execution_count": 4,
      "id": "c37124a3",
      "metadata": {
        "colab": {
          "base_uri": "https://localhost:8080/"
        },
        "id": "c37124a3",
        "outputId": "fb78c87c-7d6e-4376-b6a9-9da8ea413c81"
      },
      "outputs": [
        {
          "output_type": "stream",
          "name": "stdout",
          "text": [
            "{\"searchParameters\":{\"q\":\"Ajit Kumar Shiv Nadar University\",\"gl\":\"in\",\"type\":\"search\",\"engine\":\"google\"},\"organic\":[{\"title\":\"Ajit Kumar\",\"link\":\"https://snu.edu.in/faculty/ajit-kumar/\",\"snippet\":\"Assistant Professor, School of Natural Sciences. Contact Information: Biography, Scholarly Activities, Research Interest, Education, 2011, Ph.D., Mathematics, ...\",\"position\":1},{\"title\":\"Ajit Kumar\",\"subtitle\":\"Noida, Uttar Pradesh, India · Assistant Professor of Mathematics · Shiv Nadar University\",\"link\":\"https://in.linkedin.com/in/ajit-kumar-81346352\",\"snippet\":\"As a faculty member, my primary expertise lies in teaching Applied Mathematics courses. I enjoy developing applications and writing code to solve real-world ...\",\"position\":2},{\"title\":\"Ajit Kumar | School of Engineering\",\"link\":\"https://snu.edu.in/schools/school-of-engineering/faculty/ajit-kumar/\",\"snippet\":\"Ajit Kumar. Assistant Professor School of Natural Sciences. Contact Information. Email: ajit.kumar@snu.edu.in; Number: Ext 270. Biography. Research Interest.\",\"position\":3},{\"title\":\"Ajit KUMAR | Shiv Nadar University, Dādri | Mathematics\",\"link\":\"https://www.researchgate.net/profile/Ajit-Kumar-76\",\"snippet\":\"Ajit KUMAR | Cited by 102 | of Shiv Nadar University, Dādri | Read 7 publications | Contact Ajit KUMAR.\",\"position\":4},{\"title\":\"B.Sc. ( Research ) In Mathematics India\",\"link\":\"https://snu.edu.in/departments/department-of-mathematics/\",\"snippet\":\"Faculty at Department of Mathematics · A. Satyanarayana Reddy · Ajit Kumar · Amber Habib · Chandranandan Gangopadhyay · Charu Sharma · Dipti Dubey · Indranil Biswas.\",\"position\":5},{\"title\":\"Faculty | School of Natural Sciences\",\"link\":\"https://snu.edu.in/schools/school-of-natural-sciences/faculty/\",\"snippet\":\"Aastha Dheer. Ramalingaswami Re-entry Fellow. Department of Life Sciences. Ajit Kumar. Assistant Professor School of Natural Sciences. Department ...\",\"position\":6},{\"title\":\"Dr. Ajit Kumar\",\"link\":\"https://scholar.google.com/citations?user=IVuwuEwAAAAJ&hl=en\",\"snippet\":\"Bimlesh LochabProfessor, Shiv Nadar UniversityVerified email at snu.edu.in ... SM Abhinanda Sengupta, Ajit Kumar, Gayatree Barik, Aakash Ahuja, Jit Ghosh ...\",\"position\":7},{\"title\":\"Ajit Kumar - Graphy\",\"link\":\"https://krajit.graphy.com/\",\"snippet\":\"Join Ajit Kumar and dive into diverse subjects and linguistic richness. ... Shiv Nadar University. Features.. Comprehensive Courses. Explore a wide range ...\",\"position\":8},{\"title\":\"Faculty\",\"link\":\"https://snu.edu.in/faculty/\",\"snippet\":\"Ajit Kumar. Assistant Professor School of Natural Sciences. Department of Mathematics. Ajmal Khan. Assistant Professor Rural Management ...\",\"position\":9},{\"title\":\"Research Excellence Initiatives\",\"link\":\"https://snu.edu.in/research/research-excellence-initiatives/\",\"snippet\":\"Ajit Kumar (Mathematics) | External Investigator: Dr. Gopalakrishnan Ananthanarayanan, Associate Professor, Center for Computational Engineering ...\",\"position\":10}],\"credits\":1}\n"
          ]
        }
      ],
      "source": [
        "import http.client\n",
        "import json\n",
        "\n",
        "conn = http.client.HTTPSConnection(\"google.serper.dev\")\n",
        "payload = json.dumps({\n",
        "  \"q\": \"Ajit Kumar Shiv Nadar University\",\n",
        "  \"gl\": \"in\"\n",
        "})\n",
        "headers = {\n",
        "  'X-API-KEY': SERPER_API_KEY,\n",
        "  'Content-Type': 'application/json'\n",
        "}\n",
        "conn.request(\"POST\", \"/search\", payload, headers)\n",
        "res = conn.getresponse()\n",
        "data = res.read()\n",
        "print(data.decode(\"utf-8\"))"
      ]
    },
    {
      "cell_type": "code",
      "execution_count": 5,
      "id": "b9202b95",
      "metadata": {
        "colab": {
          "base_uri": "https://localhost:8080/"
        },
        "id": "b9202b95",
        "outputId": "44233444-87d3-49ac-d68e-3a7f75d617dc"
      },
      "outputs": [
        {
          "output_type": "execute_result",
          "data": {
            "text/plain": [
              "b'{\"searchParameters\":{\"q\":\"Ajit Kumar Shiv Nadar University\",\"gl\":\"in\",\"type\":\"search\",\"engine\":\"google\"},\"organic\":[{\"title\":\"Ajit Kumar\",\"link\":\"https://snu.edu.in/faculty/ajit-kumar/\",\"snippet\":\"Assistant Professor, School of Natural Sciences. Contact Information: Biography, Scholarly Activities, Research Interest, Education, 2011, Ph.D., Mathematics, ...\",\"position\":1},{\"title\":\"Ajit Kumar\",\"subtitle\":\"Noida, Uttar Pradesh, India \\xc2\\xb7 Assistant Professor of Mathematics \\xc2\\xb7 Shiv Nadar University\",\"link\":\"https://in.linkedin.com/in/ajit-kumar-81346352\",\"snippet\":\"As a faculty member, my primary expertise lies in teaching Applied Mathematics courses. I enjoy developing applications and writing code to solve real-world ...\",\"position\":2},{\"title\":\"Ajit Kumar | School of Engineering\",\"link\":\"https://snu.edu.in/schools/school-of-engineering/faculty/ajit-kumar/\",\"snippet\":\"Ajit Kumar. Assistant Professor School of Natural Sciences. Contact Information. Email: ajit.kumar@snu.edu.in; Number: Ext 270. Biography. Research Interest.\",\"position\":3},{\"title\":\"Ajit KUMAR | Shiv Nadar University, D\\xc4\\x81dri | Mathematics\",\"link\":\"https://www.researchgate.net/profile/Ajit-Kumar-76\",\"snippet\":\"Ajit KUMAR | Cited by 102 | of Shiv Nadar University, D\\xc4\\x81dri | Read 7 publications | Contact Ajit KUMAR.\",\"position\":4},{\"title\":\"B.Sc. ( Research ) In Mathematics India\",\"link\":\"https://snu.edu.in/departments/department-of-mathematics/\",\"snippet\":\"Faculty at Department of Mathematics \\xc2\\xb7 A. Satyanarayana Reddy \\xc2\\xb7 Ajit Kumar \\xc2\\xb7 Amber Habib \\xc2\\xb7 Chandranandan Gangopadhyay \\xc2\\xb7 Charu Sharma \\xc2\\xb7 Dipti Dubey \\xc2\\xb7 Indranil Biswas.\",\"position\":5},{\"title\":\"Faculty | School of Natural Sciences\",\"link\":\"https://snu.edu.in/schools/school-of-natural-sciences/faculty/\",\"snippet\":\"Aastha Dheer. Ramalingaswami Re-entry Fellow. Department of Life Sciences. Ajit Kumar. Assistant Professor School of Natural Sciences. Department ...\",\"position\":6},{\"title\":\"Dr. Ajit Kumar\",\"link\":\"https://scholar.google.com/citations?user=IVuwuEwAAAAJ&hl=en\",\"snippet\":\"Bimlesh LochabProfessor, Shiv Nadar UniversityVerified email at snu.edu.in ... SM Abhinanda Sengupta, Ajit Kumar, Gayatree Barik, Aakash Ahuja, Jit Ghosh ...\",\"position\":7},{\"title\":\"Ajit Kumar - Graphy\",\"link\":\"https://krajit.graphy.com/\",\"snippet\":\"Join Ajit Kumar and dive into diverse subjects and linguistic richness. ... Shiv Nadar University. Features.. Comprehensive Courses. Explore a wide range ...\",\"position\":8},{\"title\":\"Faculty\",\"link\":\"https://snu.edu.in/faculty/\",\"snippet\":\"Ajit Kumar. Assistant Professor School of Natural Sciences. Department of Mathematics. Ajmal Khan. Assistant Professor Rural Management ...\",\"position\":9},{\"title\":\"Research Excellence Initiatives\",\"link\":\"https://snu.edu.in/research/research-excellence-initiatives/\",\"snippet\":\"Ajit Kumar (Mathematics) | External Investigator: Dr. Gopalakrishnan Ananthanarayanan, Associate Professor, Center for Computational Engineering ...\",\"position\":10}],\"credits\":1}'"
            ]
          },
          "metadata": {},
          "execution_count": 5
        }
      ],
      "source": [
        "data"
      ]
    },
    {
      "cell_type": "code",
      "execution_count": 6,
      "id": "b3095312",
      "metadata": {
        "id": "b3095312"
      },
      "outputs": [],
      "source": [
        "import json\n",
        "\n",
        "data_dict = json.loads(data.decode(\"utf-8\"))"
      ]
    },
    {
      "cell_type": "code",
      "execution_count": 7,
      "id": "bcf3ca55",
      "metadata": {
        "colab": {
          "base_uri": "https://localhost:8080/"
        },
        "id": "bcf3ca55",
        "outputId": "075d9c2d-95e8-4fa7-8015-8c6d11be8eba"
      },
      "outputs": [
        {
          "output_type": "execute_result",
          "data": {
            "text/plain": [
              "[{'title': 'Ajit Kumar',\n",
              "  'link': 'https://snu.edu.in/faculty/ajit-kumar/',\n",
              "  'snippet': 'Assistant Professor, School of Natural Sciences. Contact Information: Biography, Scholarly Activities, Research Interest, Education, 2011, Ph.D., Mathematics, ...',\n",
              "  'position': 1},\n",
              " {'title': 'Ajit Kumar',\n",
              "  'subtitle': 'Noida, Uttar Pradesh, India · Assistant Professor of Mathematics · Shiv Nadar University',\n",
              "  'link': 'https://in.linkedin.com/in/ajit-kumar-81346352',\n",
              "  'snippet': 'As a faculty member, my primary expertise lies in teaching Applied Mathematics courses. I enjoy developing applications and writing code to solve real-world ...',\n",
              "  'position': 2},\n",
              " {'title': 'Ajit Kumar | School of Engineering',\n",
              "  'link': 'https://snu.edu.in/schools/school-of-engineering/faculty/ajit-kumar/',\n",
              "  'snippet': 'Ajit Kumar. Assistant Professor School of Natural Sciences. Contact Information. Email: ajit.kumar@snu.edu.in; Number: Ext 270. Biography. Research Interest.',\n",
              "  'position': 3},\n",
              " {'title': 'Ajit KUMAR | Shiv Nadar University, Dādri | Mathematics',\n",
              "  'link': 'https://www.researchgate.net/profile/Ajit-Kumar-76',\n",
              "  'snippet': 'Ajit KUMAR | Cited by 102 | of Shiv Nadar University, Dādri | Read 7 publications | Contact Ajit KUMAR.',\n",
              "  'position': 4},\n",
              " {'title': 'B.Sc. ( Research ) In Mathematics India',\n",
              "  'link': 'https://snu.edu.in/departments/department-of-mathematics/',\n",
              "  'snippet': 'Faculty at Department of Mathematics · A. Satyanarayana Reddy · Ajit Kumar · Amber Habib · Chandranandan Gangopadhyay · Charu Sharma · Dipti Dubey · Indranil Biswas.',\n",
              "  'position': 5},\n",
              " {'title': 'Faculty | School of Natural Sciences',\n",
              "  'link': 'https://snu.edu.in/schools/school-of-natural-sciences/faculty/',\n",
              "  'snippet': 'Aastha Dheer. Ramalingaswami Re-entry Fellow. Department of Life Sciences. Ajit Kumar. Assistant Professor School of Natural Sciences. Department ...',\n",
              "  'position': 6},\n",
              " {'title': 'Dr. Ajit Kumar',\n",
              "  'link': 'https://scholar.google.com/citations?user=IVuwuEwAAAAJ&hl=en',\n",
              "  'snippet': 'Bimlesh LochabProfessor, Shiv Nadar UniversityVerified email at snu.edu.in ... SM Abhinanda Sengupta, Ajit Kumar, Gayatree Barik, Aakash Ahuja, Jit Ghosh ...',\n",
              "  'position': 7},\n",
              " {'title': 'Ajit Kumar - Graphy',\n",
              "  'link': 'https://krajit.graphy.com/',\n",
              "  'snippet': 'Join Ajit Kumar and dive into diverse subjects and linguistic richness. ... Shiv Nadar University. Features.. Comprehensive Courses. Explore a wide range ...',\n",
              "  'position': 8},\n",
              " {'title': 'Faculty',\n",
              "  'link': 'https://snu.edu.in/faculty/',\n",
              "  'snippet': 'Ajit Kumar. Assistant Professor School of Natural Sciences. Department of Mathematics. Ajmal Khan. Assistant Professor Rural Management ...',\n",
              "  'position': 9},\n",
              " {'title': 'Research Excellence Initiatives',\n",
              "  'link': 'https://snu.edu.in/research/research-excellence-initiatives/',\n",
              "  'snippet': 'Ajit Kumar (Mathematics) | External Investigator: Dr. Gopalakrishnan Ananthanarayanan, Associate Professor, Center for Computational Engineering ...',\n",
              "  'position': 10}]"
            ]
          },
          "metadata": {},
          "execution_count": 7
        }
      ],
      "source": [
        "data_dict['organic']"
      ]
    },
    {
      "cell_type": "code",
      "execution_count": 7,
      "id": "10b63f2a",
      "metadata": {
        "id": "10b63f2a"
      },
      "outputs": [],
      "source": []
    },
    {
      "cell_type": "markdown",
      "id": "b3d808d0",
      "metadata": {
        "id": "b3d808d0"
      },
      "source": [
        "## Tavily\n",
        "\n"
      ]
    },
    {
      "cell_type": "code",
      "execution_count": 8,
      "id": "f71712ec",
      "metadata": {
        "colab": {
          "base_uri": "https://localhost:8080/"
        },
        "collapsed": true,
        "id": "f71712ec",
        "outputId": "66f5b4ad-1bd6-43bb-9732-a83172e67865"
      },
      "outputs": [
        {
          "output_type": "stream",
          "name": "stdout",
          "text": [
            "Collecting langchain-tavily\n",
            "  Downloading langchain_tavily-0.2.11-py3-none-any.whl.metadata (22 kB)\n",
            "Requirement already satisfied: aiohttp<4.0.0,>=3.11.14 in /usr/local/lib/python3.12/dist-packages (from langchain-tavily) (3.12.15)\n",
            "Requirement already satisfied: langchain<0.4.0,>=0.3.20 in /usr/local/lib/python3.12/dist-packages (from langchain-tavily) (0.3.27)\n",
            "Requirement already satisfied: langchain-core<0.4.0,>=0.3.15 in /usr/local/lib/python3.12/dist-packages (from langchain-tavily) (0.3.75)\n",
            "Requirement already satisfied: requests<3.0.0,>=2.32.3 in /usr/local/lib/python3.12/dist-packages (from langchain-tavily) (2.32.4)\n",
            "Requirement already satisfied: aiohappyeyeballs>=2.5.0 in /usr/local/lib/python3.12/dist-packages (from aiohttp<4.0.0,>=3.11.14->langchain-tavily) (2.6.1)\n",
            "Requirement already satisfied: aiosignal>=1.4.0 in /usr/local/lib/python3.12/dist-packages (from aiohttp<4.0.0,>=3.11.14->langchain-tavily) (1.4.0)\n",
            "Requirement already satisfied: attrs>=17.3.0 in /usr/local/lib/python3.12/dist-packages (from aiohttp<4.0.0,>=3.11.14->langchain-tavily) (25.3.0)\n",
            "Requirement already satisfied: frozenlist>=1.1.1 in /usr/local/lib/python3.12/dist-packages (from aiohttp<4.0.0,>=3.11.14->langchain-tavily) (1.7.0)\n",
            "Requirement already satisfied: multidict<7.0,>=4.5 in /usr/local/lib/python3.12/dist-packages (from aiohttp<4.0.0,>=3.11.14->langchain-tavily) (6.6.4)\n",
            "Requirement already satisfied: propcache>=0.2.0 in /usr/local/lib/python3.12/dist-packages (from aiohttp<4.0.0,>=3.11.14->langchain-tavily) (0.3.2)\n",
            "Requirement already satisfied: yarl<2.0,>=1.17.0 in /usr/local/lib/python3.12/dist-packages (from aiohttp<4.0.0,>=3.11.14->langchain-tavily) (1.20.1)\n",
            "Requirement already satisfied: langchain-text-splitters<1.0.0,>=0.3.9 in /usr/local/lib/python3.12/dist-packages (from langchain<0.4.0,>=0.3.20->langchain-tavily) (0.3.11)\n",
            "Requirement already satisfied: langsmith>=0.1.17 in /usr/local/lib/python3.12/dist-packages (from langchain<0.4.0,>=0.3.20->langchain-tavily) (0.4.27)\n",
            "Requirement already satisfied: pydantic<3.0.0,>=2.7.4 in /usr/local/lib/python3.12/dist-packages (from langchain<0.4.0,>=0.3.20->langchain-tavily) (2.11.7)\n",
            "Requirement already satisfied: SQLAlchemy<3,>=1.4 in /usr/local/lib/python3.12/dist-packages (from langchain<0.4.0,>=0.3.20->langchain-tavily) (2.0.43)\n",
            "Requirement already satisfied: PyYAML>=5.3 in /usr/local/lib/python3.12/dist-packages (from langchain<0.4.0,>=0.3.20->langchain-tavily) (6.0.2)\n",
            "Requirement already satisfied: tenacity!=8.4.0,<10.0.0,>=8.1.0 in /usr/local/lib/python3.12/dist-packages (from langchain-core<0.4.0,>=0.3.15->langchain-tavily) (8.5.0)\n",
            "Requirement already satisfied: jsonpatch<2.0,>=1.33 in /usr/local/lib/python3.12/dist-packages (from langchain-core<0.4.0,>=0.3.15->langchain-tavily) (1.33)\n",
            "Requirement already satisfied: typing-extensions>=4.7 in /usr/local/lib/python3.12/dist-packages (from langchain-core<0.4.0,>=0.3.15->langchain-tavily) (4.15.0)\n",
            "Requirement already satisfied: packaging>=23.2 in /usr/local/lib/python3.12/dist-packages (from langchain-core<0.4.0,>=0.3.15->langchain-tavily) (25.0)\n",
            "Requirement already satisfied: charset_normalizer<4,>=2 in /usr/local/lib/python3.12/dist-packages (from requests<3.0.0,>=2.32.3->langchain-tavily) (3.4.3)\n",
            "Requirement already satisfied: idna<4,>=2.5 in /usr/local/lib/python3.12/dist-packages (from requests<3.0.0,>=2.32.3->langchain-tavily) (3.10)\n",
            "Requirement already satisfied: urllib3<3,>=1.21.1 in /usr/local/lib/python3.12/dist-packages (from requests<3.0.0,>=2.32.3->langchain-tavily) (2.5.0)\n",
            "Requirement already satisfied: certifi>=2017.4.17 in /usr/local/lib/python3.12/dist-packages (from requests<3.0.0,>=2.32.3->langchain-tavily) (2025.8.3)\n",
            "Requirement already satisfied: jsonpointer>=1.9 in /usr/local/lib/python3.12/dist-packages (from jsonpatch<2.0,>=1.33->langchain-core<0.4.0,>=0.3.15->langchain-tavily) (3.0.0)\n",
            "Requirement already satisfied: httpx<1,>=0.23.0 in /usr/local/lib/python3.12/dist-packages (from langsmith>=0.1.17->langchain<0.4.0,>=0.3.20->langchain-tavily) (0.28.1)\n",
            "Requirement already satisfied: orjson>=3.9.14 in /usr/local/lib/python3.12/dist-packages (from langsmith>=0.1.17->langchain<0.4.0,>=0.3.20->langchain-tavily) (3.11.3)\n",
            "Requirement already satisfied: requests-toolbelt>=1.0.0 in /usr/local/lib/python3.12/dist-packages (from langsmith>=0.1.17->langchain<0.4.0,>=0.3.20->langchain-tavily) (1.0.0)\n",
            "Requirement already satisfied: zstandard>=0.23.0 in /usr/local/lib/python3.12/dist-packages (from langsmith>=0.1.17->langchain<0.4.0,>=0.3.20->langchain-tavily) (0.24.0)\n",
            "Requirement already satisfied: annotated-types>=0.6.0 in /usr/local/lib/python3.12/dist-packages (from pydantic<3.0.0,>=2.7.4->langchain<0.4.0,>=0.3.20->langchain-tavily) (0.7.0)\n",
            "Requirement already satisfied: pydantic-core==2.33.2 in /usr/local/lib/python3.12/dist-packages (from pydantic<3.0.0,>=2.7.4->langchain<0.4.0,>=0.3.20->langchain-tavily) (2.33.2)\n",
            "Requirement already satisfied: typing-inspection>=0.4.0 in /usr/local/lib/python3.12/dist-packages (from pydantic<3.0.0,>=2.7.4->langchain<0.4.0,>=0.3.20->langchain-tavily) (0.4.1)\n",
            "Requirement already satisfied: greenlet>=1 in /usr/local/lib/python3.12/dist-packages (from SQLAlchemy<3,>=1.4->langchain<0.4.0,>=0.3.20->langchain-tavily) (3.2.4)\n",
            "Requirement already satisfied: anyio in /usr/local/lib/python3.12/dist-packages (from httpx<1,>=0.23.0->langsmith>=0.1.17->langchain<0.4.0,>=0.3.20->langchain-tavily) (4.10.0)\n",
            "Requirement already satisfied: httpcore==1.* in /usr/local/lib/python3.12/dist-packages (from httpx<1,>=0.23.0->langsmith>=0.1.17->langchain<0.4.0,>=0.3.20->langchain-tavily) (1.0.9)\n",
            "Requirement already satisfied: h11>=0.16 in /usr/local/lib/python3.12/dist-packages (from httpcore==1.*->httpx<1,>=0.23.0->langsmith>=0.1.17->langchain<0.4.0,>=0.3.20->langchain-tavily) (0.16.0)\n",
            "Requirement already satisfied: sniffio>=1.1 in /usr/local/lib/python3.12/dist-packages (from anyio->httpx<1,>=0.23.0->langsmith>=0.1.17->langchain<0.4.0,>=0.3.20->langchain-tavily) (1.3.1)\n",
            "Downloading langchain_tavily-0.2.11-py3-none-any.whl (26 kB)\n",
            "Installing collected packages: langchain-tavily\n",
            "Successfully installed langchain-tavily-0.2.11\n"
          ]
        }
      ],
      "source": [
        " !pip install -U langchain-tavily"
      ]
    },
    {
      "cell_type": "code",
      "execution_count": 9,
      "id": "ebc88077",
      "metadata": {
        "id": "ebc88077"
      },
      "outputs": [],
      "source": [
        "from langchain_tavily import TavilySearch\n",
        "\n",
        "tool = TavilySearch(\n",
        "    tavily_api_key=TAVILY_API_KEY,\n",
        "    max_results=5,\n",
        "    topic=\"general\",\n",
        "    # include_answer=False,\n",
        "    # include_raw_content=False,\n",
        "    # include_images=False,\n",
        "    # include_image_descriptions=False,\n",
        "    # search_depth=\"basic\",\n",
        "    # time_range=\"day\",\n",
        "    # include_domains=None,\n",
        "    # exclude_domains=None\n",
        ")"
      ]
    },
    {
      "cell_type": "code",
      "execution_count": 10,
      "id": "433dd7ca",
      "metadata": {
        "colab": {
          "base_uri": "https://localhost:8080/"
        },
        "id": "433dd7ca",
        "outputId": "bafc07bb-6507-4b28-f267-14aae67cdeef"
      },
      "outputs": [
        {
          "output_type": "execute_result",
          "data": {
            "text/plain": [
              "{'query': 'Ajit Kumar Shiv Nadar University',\n",
              " 'follow_up_questions': None,\n",
              " 'answer': None,\n",
              " 'images': [],\n",
              " 'results': [{'url': 'https://snu.edu.in/schools/school-of-engineering/faculty/ajit-kumar/',\n",
              "   'title': 'Ajit Kumar | School of Engineering - Shiv Nadar University',\n",
              "   'content': 'Ajit Kumar. Assistant Professor School of Natural Sciences. Contact Information. Email: ajit.kumar@snu.edu.in; Number: Ext 270. Biography. Research Interest.',\n",
              "   'score': 0.8479807,\n",
              "   'raw_content': None},\n",
              "  {'url': 'https://snu.edu.in/faculty/ajit-kumar/',\n",
              "   'title': 'Ajit Kumar - Shiv Nadar University',\n",
              "   'content': 'Image 1: Shiv Nadar University Logo Image 2 Image 3 *   Admissions *   Programs *   Schools and Centers *   Department of Civil Engineering *   Department of Mechanical Engineering *   Department of Computer Science and Engineering *   Department of Chemical Engineering *   Department of Electrical Engineering *   Department of Chemistry *   Department of Life Sciences *   Department of Mathematics *   Department of Physics *   Department of Design *   Department of Economics *   Department of English *   Department of International Relations and Governance Studies *   Department of Sociology *   Department of Rural Management Image 6: Ajit Kumar Your Admission Assistant. *   Programs *   Admissions *   Schools and Centers *   Student Handbook *   Admission Blogs *   Parent Handbook *   For UG Admissions 1800-102-1768',\n",
              "   'score': 0.7507177,\n",
              "   'raw_content': None},\n",
              "  {'url': 'https://scholar.google.com/citations?user=IVuwuEwAAAAJ&hl=en',\n",
              "   'title': '\\u202aDr. Ajit Kumar\\u202c - \\u202aGoogle Scholar\\u202c',\n",
              "   'content': 'Bimlesh LochabProfessor, Shiv Nadar UniversityVerified email at snu.edu.in ... SM Abhinanda Sengupta, Ajit Kumar, Gayatree Barik, Aakash Ahuja, Jit Ghosh',\n",
              "   'score': 0.6864757,\n",
              "   'raw_content': None},\n",
              "  {'url': 'https://krajit.graphy.com/',\n",
              "   'title': 'Ajit Kumar - Graphy',\n",
              "   'content': 'Join Ajit Kumar and dive into diverse subjects and linguistic richness. ... Shiv Nadar University. Features.. Comprehensive Courses. Explore a wide range',\n",
              "   'score': 0.683948,\n",
              "   'raw_content': None},\n",
              "  {'url': 'https://www.researchgate.net/profile/Ajit-Kumar-76',\n",
              "   'title': 'Ajit KUMAR | Shiv Nadar University, Dādri | Research profile',\n",
              "   'content': 'Ajit KUMAR | Cited by 100 | of Shiv Nadar University, Dādri | Read 7 publications | Contact Ajit KUMAR.',\n",
              "   'score': 0.6765563,\n",
              "   'raw_content': None}],\n",
              " 'response_time': 1.51,\n",
              " 'request_id': '5f6a7a3d-76f4-45c3-a309-a3be07891720'}"
            ]
          },
          "metadata": {},
          "execution_count": 10
        }
      ],
      "source": [
        "tool.invoke({\"query\": \"Ajit Kumar Shiv Nadar University\"})"
      ]
    }
  ],
  "metadata": {
    "kernelspec": {
      "display_name": "mat496-monsoon2025",
      "language": "python",
      "name": "python3"
    },
    "language_info": {
      "codemirror_mode": {
        "name": "ipython",
        "version": 3
      },
      "file_extension": ".py",
      "mimetype": "text/x-python",
      "name": "python",
      "nbconvert_exporter": "python",
      "pygments_lexer": "ipython3",
      "version": "3.12.11"
    },
    "colab": {
      "provenance": []
    }
  },
  "nbformat": 4,
  "nbformat_minor": 5
}