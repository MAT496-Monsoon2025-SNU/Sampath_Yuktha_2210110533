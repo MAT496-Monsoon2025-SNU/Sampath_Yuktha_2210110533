{
  "cells": [
    {
      "cell_type": "code",
      "execution_count": 19,
      "id": "64dbd918",
      "metadata": {
        "colab": {
          "base_uri": "https://localhost:8080/"
        },
        "id": "64dbd918",
        "outputId": "2fe3cbc2-1be8-42f3-f5a9-8eb84f4d81f5"
      },
      "outputs": [
        {
          "output_type": "execute_result",
          "data": {
            "text/plain": [
              "True"
            ]
          },
          "metadata": {},
          "execution_count": 19
        }
      ],
      "source": [
        "from dotenv import load_dotenv\n",
        "load_dotenv(override=True)"
      ]
    },
    {
      "cell_type": "code",
      "execution_count": 20,
      "id": "42d63342",
      "metadata": {
        "id": "42d63342"
      },
      "outputs": [],
      "source": [
        "import os\n",
        "import http.client\n",
        "import json"
      ]
    },
    {
      "cell_type": "code",
      "source": [
        "# ! pip install -U langchain-groq"
      ],
      "metadata": {
        "id": "xJygEkQ2vC-z"
      },
      "id": "xJygEkQ2vC-z",
      "execution_count": 21,
      "outputs": []
    },
    {
      "cell_type": "code",
      "execution_count": 22,
      "id": "ebf221ed",
      "metadata": {
        "id": "ebf221ed"
      },
      "outputs": [],
      "source": [
        "# pick a model\n",
        "from langchain.chat_models import init_chat_model\n",
        "llm = init_chat_model(\"llama-3.3-70b-versatile\", model_provider=\"groq\")"
      ]
    },
    {
      "cell_type": "code",
      "execution_count": 23,
      "id": "25a34532",
      "metadata": {
        "id": "25a34532"
      },
      "outputs": [],
      "source": [
        "from langchain_core.tools import tool\n",
        "\n",
        "@tool\n",
        "def browse(txt: str) -> str:\n",
        "    \"\"\" Call this tool if you want to search the web for current information\"\"\"\n",
        "\n",
        "    conn = http.client.HTTPSConnection(\"google.serper.dev\")\n",
        "    payload = json.dumps({\n",
        "    \"q\": txt,\n",
        "    \"gl\": \"in\"\n",
        "    })\n",
        "    headers = {\n",
        "    'X-API-KEY': os.environ.get(\"SERPER_API_KEY\"),\n",
        "    'Content-Type': 'application/json'\n",
        "    }\n",
        "    conn.request(\"POST\", \"/search\", payload, headers)\n",
        "    res = conn.getresponse()\n",
        "    data = res.read()\n",
        "    #print(data.decode(\"utf-8\"))\n",
        "    data_dict = json.loads(data.decode(\"utf-8\"))\n",
        "    return data_dict['organic'][0]['snippet']\n"
      ]
    },
    {
      "cell_type": "code",
      "execution_count": 24,
      "id": "dc32e225",
      "metadata": {
        "id": "dc32e225"
      },
      "outputs": [],
      "source": [
        "tools_list = [browse]\n",
        "tools_dict = {t.name: t for t in tools_list} # comes in handy at the time of invokation"
      ]
    },
    {
      "cell_type": "code",
      "execution_count": 25,
      "id": "5b9e039b",
      "metadata": {
        "id": "5b9e039b"
      },
      "outputs": [],
      "source": [
        "# we create a tool calling Agent by binding a list of tools to the llm\n",
        "llm_with_tools = llm.bind_tools(tools_list)"
      ]
    },
    {
      "cell_type": "code",
      "execution_count": 26,
      "id": "e3cd2ef9",
      "metadata": {
        "id": "e3cd2ef9"
      },
      "outputs": [],
      "source": [
        "from langchain_core.messages import HumanMessage, SystemMessage, AIMessage, ToolMessage\n",
        "\n",
        "# This will store all converation\n",
        "chat_history = [\n",
        "    SystemMessage(content=\"You are a chatbot. Depending on the conversation, if user demands current information, you must use the tool 'browse' to get the information. If you do not need current information, you can answer directly. Always try to keep the conversation short and crisp.\")\n",
        "    ]"
      ]
    },
    {
      "cell_type": "code",
      "execution_count": 27,
      "id": "c5ca2988",
      "metadata": {
        "id": "c5ca2988"
      },
      "outputs": [],
      "source": [
        "chat_history=[]"
      ]
    },
    {
      "cell_type": "code",
      "execution_count": 28,
      "id": "09bb0493",
      "metadata": {
        "colab": {
          "base_uri": "https://localhost:8080/"
        },
        "id": "09bb0493",
        "outputId": "85f98fa0-670e-4b3b-bc00-6a049dbc33b1"
      },
      "outputs": [
        {
          "output_type": "execute_result",
          "data": {
            "text/plain": [
              "AIMessage(content=\"The French Revolution was a pivotal event in modern history that took place from 1789 to 1799. It was a complex and multifaceted phenomenon that involved the overthrow of the monarchy, the establishment of a new political and social order, and the rise of Napoleon Bonaparte. The Revolution was sparked by a combination of factors, including financial crisis, food shortages, and the influence of the Enlightenment ideas of liberty, equality, and fraternity.\\n\\nThe Revolution began with the Storming of the Bastille on July 14, 1789, which marked the beginning of the end of the absolute monarchy and the rise of the Third Estate, which represented the common people. The National Assembly, which was formed in 1789, adopted the Declaration of the Rights of Man and of the Citizen, which enshrined the principles of liberty, equality, and fraternity.\\n\\nThe early years of the Revolution saw the establishment of a constitutional monarchy, with King Louis XVI as the head of state. However, the monarchy was eventually abolished in 1792, and a republic was declared. The Reign of Terror, which lasted from 1793 to 1794, was a period of violence and repression during which thousands of people were executed for perceived counter-revolutionary activities.\\n\\nThe French Revolution had a profound impact on European and world history. It inspired similar movements for democracy and equality in other countries, and it helped to shape modern politics, society, and culture. The Revolution's emphasis on the principles of liberty, equality, and fraternity continues to influence political and social discourse to this day.\\n\\nSome of the key figures of the French Revolution include:\\n\\n* Maximilien Robespierre: A leading figure of the Committee of Public Safety, which governed France during the Reign of Terror.\\n* Georges Danton: An early leader of the Revolution who played a key role in the establishment of the First French Republic.\\n* Napoleon Bonaparte: A military general who rose to power during the Revolution and eventually became Emperor of France.\\n* King Louis XVI: The last king of France before the Revolution, who was executed in 1793.\\n* Marie Antoinette: The queen of France before the Revolution, who was also executed in 1793.\\n\\nThe French Revolution was a complex and multifaceted event that continues to be studied and debated by historians and scholars today. Its legacy can be seen in the modern democratic systems of government, the concept of human rights, and the ongoing struggle for social justice and equality.\", additional_kwargs={}, response_metadata={'token_usage': {'completion_tokens': 502, 'prompt_tokens': 230, 'total_tokens': 732, 'completion_time': 1.120881636, 'prompt_time': 0.012749713, 'queue_time': 0.220121023, 'total_time': 1.133631349}, 'model_name': 'llama-3.3-70b-versatile', 'system_fingerprint': 'fp_9e1e8f8435', 'service_tier': 'on_demand', 'finish_reason': 'stop', 'logprobs': None}, id='run--ecdb3df6-9f7e-4999-9fa8-4070e8fe5e2d-0', usage_metadata={'input_tokens': 230, 'output_tokens': 502, 'total_tokens': 732})"
            ]
          },
          "metadata": {},
          "execution_count": 28
        }
      ],
      "source": [
        "chat_history.append(HumanMessage(content=\"Tell me about the French Revolution\"))\n",
        "\n",
        "response = llm_with_tools.invoke(chat_history)\n",
        "response\n"
      ]
    },
    {
      "cell_type": "code",
      "execution_count": 29,
      "id": "90fe85e8",
      "metadata": {
        "colab": {
          "base_uri": "https://localhost:8080/"
        },
        "id": "90fe85e8",
        "outputId": "2bac612b-bb5e-484c-a1f1-d68827da4e48"
      },
      "outputs": [
        {
          "output_type": "execute_result",
          "data": {
            "text/plain": [
              "[HumanMessage(content='Tell me about the French Revolution', additional_kwargs={}, response_metadata={}),\n",
              " AIMessage(content=\"The French Revolution was a pivotal event in modern history that took place from 1789 to 1799. It was a complex and multifaceted phenomenon that involved the overthrow of the monarchy, the establishment of a new political and social order, and the rise of Napoleon Bonaparte. The Revolution was sparked by a combination of factors, including financial crisis, food shortages, and the influence of the Enlightenment ideas of liberty, equality, and fraternity.\\n\\nThe Revolution began with the Storming of the Bastille on July 14, 1789, which marked the beginning of the end of the absolute monarchy and the rise of the Third Estate, which represented the common people. The National Assembly, which was formed in 1789, adopted the Declaration of the Rights of Man and of the Citizen, which enshrined the principles of liberty, equality, and fraternity.\\n\\nThe early years of the Revolution saw the establishment of a constitutional monarchy, with King Louis XVI as the head of state. However, the monarchy was eventually abolished in 1792, and a republic was declared. The Reign of Terror, which lasted from 1793 to 1794, was a period of violence and repression during which thousands of people were executed for perceived counter-revolutionary activities.\\n\\nThe French Revolution had a profound impact on European and world history. It inspired similar movements for democracy and equality in other countries, and it helped to shape modern politics, society, and culture. The Revolution's emphasis on the principles of liberty, equality, and fraternity continues to influence political and social discourse to this day.\\n\\nSome of the key figures of the French Revolution include:\\n\\n* Maximilien Robespierre: A leading figure of the Committee of Public Safety, which governed France during the Reign of Terror.\\n* Georges Danton: An early leader of the Revolution who played a key role in the establishment of the First French Republic.\\n* Napoleon Bonaparte: A military general who rose to power during the Revolution and eventually became Emperor of France.\\n* King Louis XVI: The last king of France before the Revolution, who was executed in 1793.\\n* Marie Antoinette: The queen of France before the Revolution, who was also executed in 1793.\\n\\nThe French Revolution was a complex and multifaceted event that continues to be studied and debated by historians and scholars today. Its legacy can be seen in the modern democratic systems of government, the concept of human rights, and the ongoing struggle for social justice and equality.\", additional_kwargs={}, response_metadata={'token_usage': {'completion_tokens': 502, 'prompt_tokens': 230, 'total_tokens': 732, 'completion_time': 1.120881636, 'prompt_time': 0.012749713, 'queue_time': 0.220121023, 'total_time': 1.133631349}, 'model_name': 'llama-3.3-70b-versatile', 'system_fingerprint': 'fp_9e1e8f8435', 'service_tier': 'on_demand', 'finish_reason': 'stop', 'logprobs': None}, id='run--ecdb3df6-9f7e-4999-9fa8-4070e8fe5e2d-0', usage_metadata={'input_tokens': 230, 'output_tokens': 502, 'total_tokens': 732})]"
            ]
          },
          "metadata": {},
          "execution_count": 29
        }
      ],
      "source": [
        "chat_history.append(response)\n",
        "chat_history\n"
      ]
    },
    {
      "cell_type": "code",
      "execution_count": 31,
      "id": "0a8d9b1c",
      "metadata": {
        "colab": {
          "base_uri": "https://localhost:8080/"
        },
        "id": "0a8d9b1c",
        "outputId": "728b2875-8d12-4ec8-fa45-43d4a95d0a32"
      },
      "outputs": [
        {
          "output_type": "execute_result",
          "data": {
            "text/plain": [
              "[HumanMessage(content='Tell me about the French Revolution', additional_kwargs={}, response_metadata={}),\n",
              " AIMessage(content=\"The French Revolution was a pivotal event in modern history that took place from 1789 to 1799. It was a complex and multifaceted phenomenon that involved the overthrow of the monarchy, the establishment of a new political and social order, and the rise of Napoleon Bonaparte. The Revolution was sparked by a combination of factors, including financial crisis, food shortages, and the influence of the Enlightenment ideas of liberty, equality, and fraternity.\\n\\nThe Revolution began with the Storming of the Bastille on July 14, 1789, which marked the beginning of the end of the absolute monarchy and the rise of the Third Estate, which represented the common people. The National Assembly, which was formed in 1789, adopted the Declaration of the Rights of Man and of the Citizen, which enshrined the principles of liberty, equality, and fraternity.\\n\\nThe early years of the Revolution saw the establishment of a constitutional monarchy, with King Louis XVI as the head of state. However, the monarchy was eventually abolished in 1792, and a republic was declared. The Reign of Terror, which lasted from 1793 to 1794, was a period of violence and repression during which thousands of people were executed for perceived counter-revolutionary activities.\\n\\nThe French Revolution had a profound impact on European and world history. It inspired similar movements for democracy and equality in other countries, and it helped to shape modern politics, society, and culture. The Revolution's emphasis on the principles of liberty, equality, and fraternity continues to influence political and social discourse to this day.\\n\\nSome of the key figures of the French Revolution include:\\n\\n* Maximilien Robespierre: A leading figure of the Committee of Public Safety, which governed France during the Reign of Terror.\\n* Georges Danton: An early leader of the Revolution who played a key role in the establishment of the First French Republic.\\n* Napoleon Bonaparte: A military general who rose to power during the Revolution and eventually became Emperor of France.\\n* King Louis XVI: The last king of France before the Revolution, who was executed in 1793.\\n* Marie Antoinette: The queen of France before the Revolution, who was also executed in 1793.\\n\\nThe French Revolution was a complex and multifaceted event that continues to be studied and debated by historians and scholars today. Its legacy can be seen in the modern democratic systems of government, the concept of human rights, and the ongoing struggle for social justice and equality.\", additional_kwargs={}, response_metadata={'token_usage': {'completion_tokens': 502, 'prompt_tokens': 230, 'total_tokens': 732, 'completion_time': 1.120881636, 'prompt_time': 0.012749713, 'queue_time': 0.220121023, 'total_time': 1.133631349}, 'model_name': 'llama-3.3-70b-versatile', 'system_fingerprint': 'fp_9e1e8f8435', 'service_tier': 'on_demand', 'finish_reason': 'stop', 'logprobs': None}, id='run--ecdb3df6-9f7e-4999-9fa8-4070e8fe5e2d-0', usage_metadata={'input_tokens': 230, 'output_tokens': 502, 'total_tokens': 732})]"
            ]
          },
          "metadata": {},
          "execution_count": 31
        }
      ],
      "source": [
        "# Since there was a tool call, execute the tool and append the tool output in the converation\n",
        "\n",
        "if response.tool_calls:\n",
        "    chat_history.append(tools_dict[response.tool_calls[0][\"name\"]].invoke(response.tool_calls[0]))\n",
        "chat_history"
      ]
    },
    {
      "cell_type": "code",
      "execution_count": 32,
      "id": "54341672",
      "metadata": {
        "colab": {
          "base_uri": "https://localhost:8080/"
        },
        "id": "54341672",
        "outputId": "8316ec3f-773a-4238-ddff-d6e1178d70ca"
      },
      "outputs": [
        {
          "output_type": "execute_result",
          "data": {
            "text/plain": [
              "AIMessage(content='20', additional_kwargs={}, response_metadata={'token_usage': {'completion_tokens': 2, 'prompt_tokens': 749, 'total_tokens': 751, 'completion_time': 0.014609267, 'prompt_time': 0.062616895, 'queue_time': 0.218008993, 'total_time': 0.077226162}, 'model_name': 'llama-3.3-70b-versatile', 'system_fingerprint': 'fp_155ab82e98', 'service_tier': 'on_demand', 'finish_reason': 'stop', 'logprobs': None}, id='run--b8fe596f-6327-408b-87f9-b9e34bebe11c-0', usage_metadata={'input_tokens': 749, 'output_tokens': 2, 'total_tokens': 751})"
            ]
          },
          "metadata": {},
          "execution_count": 32
        }
      ],
      "source": [
        "chat_history.append(HumanMessage(content=\"What is 10 plus 10?\"))\n",
        "\n",
        "response = llm_with_tools.invoke(chat_history)\n",
        "response"
      ]
    }
  ],
  "metadata": {
    "kernelspec": {
      "display_name": "Langchain",
      "language": "python",
      "name": "python3"
    },
    "language_info": {
      "codemirror_mode": {
        "name": "ipython",
        "version": 3
      },
      "file_extension": ".py",
      "mimetype": "text/x-python",
      "name": "python",
      "nbconvert_exporter": "python",
      "pygments_lexer": "ipython3",
      "version": "3.9.23"
    },
    "colab": {
      "provenance": []
    }
  },
  "nbformat": 4,
  "nbformat_minor": 5
}